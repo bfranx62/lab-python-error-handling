{
 "cells": [
  {
   "cell_type": "markdown",
   "id": "25d7736c-ba17-4aff-b6bb-66eba20fbf4e",
   "metadata": {},
   "source": [
    "# Lab | Error Handling"
   ]
  },
  {
   "cell_type": "markdown",
   "id": "bc99b386-7508-47a0-bcdb-d969deaf6c8b",
   "metadata": {},
   "source": [
    "## Exercise: Error Handling for Managing Customer Orders\n",
    "\n",
    "The implementation of your code for managing customer orders assumes that the user will always enter a valid input. \n",
    "\n",
    "For example, we could modify the `initialize_inventory` function to include error handling.\n",
    "   - If the user enters an invalid quantity (e.g., a negative value or a non-numeric value), display an error message and ask them to re-enter the quantity for that product.\n",
    "   - Use a try-except block to handle the error and continue prompting the user until a valid quantity is entered.\n",
    "\n",
    "```python\n",
    "# Step 1: Define the function for initializing the inventory with error handling\n",
    "def initialize_inventory(products):\n",
    "    inventory = {}\n",
    "    for product in products:\n",
    "        valid_quantity = False\n",
    "        while not valid_quantity:\n",
    "            try:\n",
    "                quantity = int(input(f\"Enter the quantity of {product}s available: \"))\n",
    "                if quantity < 0:\n",
    "                    raise ValueError(\"Invalid quantity! Please enter a non-negative value.\")\n",
    "                valid_quantity = True\n",
    "            except ValueError as error:\n",
    "                print(f\"Error: {error}\")\n",
    "        inventory[product] = quantity\n",
    "    return inventory\n",
    "\n",
    "# Or, in another way:\n",
    "\n",
    "def initialize_inventory(products):\n",
    "    inventory = {}\n",
    "    for product in products:\n",
    "        valid_input = False\n",
    "        while not valid_input:\n",
    "            try:\n",
    "                quantity = int(input(f\"Enter the quantity of {product}s available: \"))\n",
    "                if quantity >= 0:\n",
    "                    inventory[product] = quantity\n",
    "                    valid_input = True\n",
    "                else:\n",
    "                    print(\"Quantity cannot be negative. Please enter a valid quantity.\")\n",
    "            except ValueError:\n",
    "                print(\"Invalid input. Please enter a valid quantity.\")\n",
    "    return inventory\n",
    "```\n",
    "\n",
    "Let's enhance your code by implementing error handling to handle invalid inputs.\n",
    "\n",
    "Follow the steps below to complete the exercise:\n",
    "\n",
    "2. Modify the `calculate_total_price` function to include error handling.\n",
    "   - If the user enters an invalid price (e.g., a negative value or a non-numeric value), display an error message and ask them to re-enter the price for that product.\n",
    "   - Use a try-except block to handle the error and continue prompting the user until a valid price is entered.\n",
    "\n",
    "3. Modify the `get_customer_orders` function to include error handling.\n",
    "   - If the user enters an invalid number of orders (e.g., a negative value or a non-numeric value), display an error message and ask them to re-enter the number of orders.\n",
    "   - If the user enters an invalid product name (e.g., a product name that is not in the inventory), or that doesn't have stock available, display an error message and ask them to re-enter the product name. *Hint: you will need to pass inventory as a parameter*\n",
    "   - Use a try-except block to handle the error and continue prompting the user until a valid product name is entered.\n",
    "\n",
    "4. Test your code by running the program and deliberately entering invalid quantities and product names. Make sure the error handling mechanism works as expected.\n"
   ]
  },
  {
   "cell_type": "markdown",
   "id": "1892a0eb",
   "metadata": {},
   "source": [
    "#### Step 1"
   ]
  },
  {
   "cell_type": "code",
   "execution_count": null,
   "id": "5ffbc5f3",
   "metadata": {},
   "outputs": [],
   "source": [
    "# Original Code\n",
    "\n",
    "def c_initialize_inventory(products):\n",
    "    \"\"\" Asks how many of each product there is and saves each product and the corresponding amount to the inventory dictionary.\"\"\"\n",
    "    inv = {item: int(input(f\"Please input the number of {item}s:\")) for item in products}\n",
    "    print(\"Initial Inventory:\",inv)\n",
    "    return inv"
   ]
  },
  {
   "cell_type": "code",
   "execution_count": 7,
   "id": "ef768699",
   "metadata": {},
   "outputs": [],
   "source": [
    "# Error Handling Code that incorporates the dictionary comprehension included in the original. \n",
    "\n",
    "def eh_initialize_inventory(products):\n",
    "    inv = {}\n",
    "    for product in products:\n",
    "        valid_quantity = False\n",
    "        while not valid_quantity:\n",
    "            try:\n",
    "                quantity = int(input(f\"Enter the quantity of {product}s available: \"))\n",
    "                if quantity < 0:\n",
    "                    raise ValueError(\"Invalid quantity! Please enter a non-negative value.\")\n",
    "                valid_quantity = True\n",
    "            except ValueError as error:\n",
    "                print(f\"Error: {error}\")\n",
    "            else:\n",
    "                inv[product] = quantity\n",
    "\n",
    "    return {product: inv[product] for product in products}"
   ]
  },
  {
   "cell_type": "code",
   "execution_count": 8,
   "id": "38e4c1fa",
   "metadata": {},
   "outputs": [
    {
     "name": "stdout",
     "output_type": "stream",
     "text": [
      "Error: Invalid quantity! Please enter a non-negative value.\n",
      "Error: Invalid quantity! Please enter a non-negative value.\n",
      "Error: Invalid quantity! Please enter a non-negative value.\n",
      "Error: Invalid quantity! Please enter a non-negative value.\n",
      "Error: Invalid quantity! Please enter a non-negative value.\n",
      "Error: Invalid quantity! Please enter a non-negative value.\n",
      "Error: Invalid quantity! Please enter a non-negative value.\n"
     ]
    }
   ],
   "source": [
    "product_list = ['t-shirt', 'mug', 'hat', 'book', 'keychain']\n",
    "\n",
    "inventory = eh_initialize_inventory(product_list)\n"
   ]
  },
  {
   "cell_type": "code",
   "execution_count": 9,
   "id": "fe1fed71",
   "metadata": {},
   "outputs": [
    {
     "data": {
      "text/plain": [
       "{'t-shirt': 12, 'mug': 23, 'hat': 34, 'book': 45, 'keychain': 56}"
      ]
     },
     "execution_count": 9,
     "metadata": {},
     "output_type": "execute_result"
    }
   ],
   "source": [
    "inventory"
   ]
  },
  {
   "cell_type": "markdown",
   "id": "17ae5017",
   "metadata": {},
   "source": [
    "#### Step 2\n",
    "\n",
    "Modify the `calculate_total_price` function to include error handling.\n",
    "   - If the user enters an invalid price (e.g., a negative value or a non-numeric value), display an error message and ask them to re-enter the price for that product.\n",
    "   - Use a try-except block to handle the error and continue prompting the user until a valid price is entered."
   ]
  },
  {
   "cell_type": "code",
   "execution_count": null,
   "id": "d03ae6e5",
   "metadata": {},
   "outputs": [],
   "source": [
    "# Original Code\n",
    "\n",
    "def get_cust_prices(order_dict):\n",
    "    cust_inp_prices = {item: float(input(f\"This may sound weird, but how much would you like to pay for each {item}?\")) for item in order_dict}\n",
    "    cust_item_prices = {item: quantity * cust_inp_prices[item] for item, quantity in order_dict.items() if item in cust_inp_prices}\n",
    "    cust_tot_price = sum(quantity * cust_inp_prices[item] for item, quantity in order_dict.items() if item in cust_inp_prices)\n",
    "    for key,value in cust_item_prices.items():\n",
    "        print(f\"Total cost of {key}s is: ${value}.\")\n",
    "    print(f\"Total price of customer order is: ${cust_tot_price}. \\nThank you for ordering with us!\")\n",
    "    return cust_tot_price"
   ]
  },
  {
   "cell_type": "code",
   "execution_count": 10,
   "id": "7e03ed06",
   "metadata": {},
   "outputs": [],
   "source": [
    "# Error Handling Code that incorporates the dictionary comprehension included in the original \n",
    "\n",
    "def eh_get_tot_cust_price(order_dict):\n",
    "    valid_inp_price = False\n",
    "    cust_inp_prices = {}\n",
    "    while valid_inp_price == False:\n",
    "        try:\n",
    "            inp_price = {item: float(input(f\"This is weird, but how much do you want to pay for each {item}?\")) for item in order_dict}\n",
    "            if inp_price <= 0:\n",
    "                raise ValueError(\"Come on now, ya gotta pay something. Please enter a non-zero, non-negative amount.\")\n",
    "            valid_inp_price = True\n",
    "        except ValueError as numeric_value_needed:\n",
    "            print(f\"Error: {numeric_value_needed}\")\n",
    "        else:\n",
    "            cust_inp_prices[item] = inp_price\n",
    "    cust_item_prices = {item: quantity * cust_inp_prices[item] for item, quantity in order_dict.items() if item in cust_inp_prices}\n",
    "    cust_tot_price = sum(quantity * cust_inp_prices[item] for item, quantity in order_dict.items() if item in cust_inp_prices)\n",
    "    for key,value in cust_item_prices.items():\n",
    "        print(f\"Total cost of {key}s is: ${value}.\")\n",
    "    print(f\"Total price of customer order is: ${cust_tot_price}. \\nThank you for ordering with us!\")\n",
    "    return cust_tot_price\n"
   ]
  },
  {
   "cell_type": "markdown",
   "id": "793ae4b7",
   "metadata": {},
   "source": [
    "#### Step 3\n",
    "\n",
    "Modify the `get_customer_orders` function to include error handling.\n",
    "   - If the user enters an invalid number of orders (e.g., a negative value or a non-numeric value), display an error message and ask them to re-enter the number of orders.\n",
    "   - If the user enters an invalid product name (e.g., a product name that is not in the inventory), or that doesn't have stock available, display an error message and ask them to re-enter the product name. *Hint: you will need to pass inventory as a parameter*\n",
    "   - Use a try-except block to handle the error and continue prompting the user until a valid product name is entered."
   ]
  },
  {
   "cell_type": "code",
   "execution_count": 24,
   "id": "71fd328e",
   "metadata": {},
   "outputs": [],
   "source": [
    "# Error Handling Code from previous assignment\n",
    "\n",
    "def eh_get_customer_orders():\n",
    "    \"Prompts user to input products they want to order, displays items ordered, and stores them in customer_orders list.\"\n",
    "    good_cust_resp = False    ### sets condition for while loop, ai recommended\n",
    "    while good_cust_resp == False:\n",
    "        try:\n",
    "            cust_resp = int(input(\"How many products would you like to order today? Please enter a number between 1 and 5.\\n\"))\n",
    "            if cust_resp > 0 and cust_resp <= 5:    \n",
    "                good_cust_resp = True    ### changes condition that will stop the while loop, ai recommended\n",
    "            else:\n",
    "                print(\"Sorry. You must order a number of products between 1 and 5. Please try again.\")\n",
    "        except ValueError:\n",
    "            print(\"Sorry, I didn't understand that. Please enter a number between 1 and 5.\")\n",
    "    \n",
    "    c_o_num = cust_resp\n",
    "    \n",
    "    order_items = []\n",
    "    item_nums = []\n",
    "    for i in range(0, c_o_num):\n",
    "        valid_items = False\n",
    "        valid_item_nums = False\n",
    "        while valid_items == False and valid_item_nums == False:\n",
    "            try:\n",
    "                new_item = str(input(\"What would you like to order? Please type t-shirt, mug, hat, book, or keychain.\\n\".lower()))\n",
    "                if new_item not in [\"t-shirt\", \"mug\", \"hat\", \"book\", \"keychain\"]:\n",
    "                    raise ValueError(\"Sorry, we don't have those. Please type t-shirt, mug, hat, book, or keychain.\")\n",
    "                \n",
    "                new_item_num = int(input(\"And how many would you like to order?\"))\n",
    "                if new_item_num <= 0:\n",
    "                    raise ValueError(\"You said you wanted these! Please enter a number that is greater than zero.\")\n",
    "                \n",
    "                order_items.append(new_item)\n",
    "                item_nums.append(new_item_num)\n",
    "            \n",
    "                valid_items = True\n",
    "                valid_item_nums = True\n",
    "\n",
    "            except ValueError as e:\n",
    "                print(e)\n",
    "                valid_items = False\n",
    "                valid_item_nums = False\n",
    "            \n",
    "    c_o_add = {order_items[i]:item_nums[i] for i in range(c_o_num)}\n",
    "    return c_o_add"
   ]
  },
  {
   "cell_type": "markdown",
   "id": "eb4f35ee",
   "metadata": {},
   "source": [
    "#### Step 4\n",
    "\n",
    "Test your code by running the program and deliberately entering invalid quantities and product names. Make sure the error handling mechanism works as expected."
   ]
  },
  {
   "cell_type": "code",
   "execution_count": 12,
   "id": "3d18dcde",
   "metadata": {},
   "outputs": [
    {
     "name": "stdout",
     "output_type": "stream",
     "text": [
      "Error: Invalid quantity! Please enter a non-negative value.\n",
      "Error: invalid literal for int() with base 10: 'negative 2'\n",
      "Error: invalid literal for int() with base 10: 'negative two'\n",
      "Error: Invalid quantity! Please enter a non-negative value.\n"
     ]
    }
   ],
   "source": [
    "product_list = ['t-shirt', 'mug', 'hat', 'book', 'keychain']\n",
    "\n",
    "inventory = eh_initialize_inventory(product_list)"
   ]
  },
  {
   "cell_type": "code",
   "execution_count": 26,
   "id": "39b826f0",
   "metadata": {},
   "outputs": [
    {
     "name": "stdout",
     "output_type": "stream",
     "text": [
      "Sorry, I didn't understand that. Please enter a number between 1 and 5.\n",
      "Sorry. You must order a number of products between 1 and 5. Please try again.\n",
      "Sorry, we don't have those. Please type t-shirt, mug, hat, book, or keychain.\n",
      "invalid literal for int() with base 10: 'negative 2'\n",
      "Sorry, we don't have those. Please type t-shirt, mug, hat, book, or keychain.\n",
      "Sorry, we don't have those. Please type t-shirt, mug, hat, book, or keychain.\n"
     ]
    }
   ],
   "source": [
    "customer_order = eh_get_customer_orders()"
   ]
  },
  {
   "cell_type": "code",
   "execution_count": 28,
   "id": "84c0bd32",
   "metadata": {},
   "outputs": [
    {
     "ename": "TypeError",
     "evalue": "'<=' not supported between instances of 'dict' and 'int'",
     "output_type": "error",
     "traceback": [
      "\u001b[1;31m---------------------------------------------------------------------------\u001b[0m",
      "\u001b[1;31mTypeError\u001b[0m                                 Traceback (most recent call last)",
      "Cell \u001b[1;32mIn[28], line 1\u001b[0m\n\u001b[1;32m----> 1\u001b[0m eh_get_tot_cust_price(customer_order)\n",
      "Cell \u001b[1;32mIn[10], line 9\u001b[0m, in \u001b[0;36meh_get_tot_cust_price\u001b[1;34m(order_dict)\u001b[0m\n\u001b[0;32m      7\u001b[0m \u001b[38;5;28;01mtry\u001b[39;00m:\n\u001b[0;32m      8\u001b[0m     inp_price \u001b[38;5;241m=\u001b[39m {item: \u001b[38;5;28mfloat\u001b[39m(\u001b[38;5;28minput\u001b[39m(\u001b[38;5;124mf\u001b[39m\u001b[38;5;124m\"\u001b[39m\u001b[38;5;124mThis is weird, but how much do you want to pay for each \u001b[39m\u001b[38;5;132;01m{\u001b[39;00mitem\u001b[38;5;132;01m}\u001b[39;00m\u001b[38;5;124m?\u001b[39m\u001b[38;5;124m\"\u001b[39m)) \u001b[38;5;28;01mfor\u001b[39;00m item \u001b[38;5;129;01min\u001b[39;00m order_dict}\n\u001b[1;32m----> 9\u001b[0m     \u001b[38;5;28;01mif\u001b[39;00m inp_price \u001b[38;5;241m<\u001b[39m\u001b[38;5;241m=\u001b[39m \u001b[38;5;241m0\u001b[39m:\n\u001b[0;32m     10\u001b[0m         \u001b[38;5;28;01mraise\u001b[39;00m \u001b[38;5;167;01mValueError\u001b[39;00m(\u001b[38;5;124m\"\u001b[39m\u001b[38;5;124mCome on now, ya gotta pay something. Please enter a non-zero, non-negative amount.\u001b[39m\u001b[38;5;124m\"\u001b[39m)\n\u001b[0;32m     11\u001b[0m     valid_inp_price \u001b[38;5;241m=\u001b[39m \u001b[38;5;28;01mTrue\u001b[39;00m\n",
      "\u001b[1;31mTypeError\u001b[0m: '<=' not supported between instances of 'dict' and 'int'"
     ]
    }
   ],
   "source": [
    "eh_get_tot_cust_price(customer_order)"
   ]
  },
  {
   "cell_type": "code",
   "execution_count": null,
   "id": "810aa8b1",
   "metadata": {},
   "outputs": [],
   "source": []
  }
 ],
 "metadata": {
  "kernelspec": {
   "display_name": "Python 3 (ipykernel)",
   "language": "python",
   "name": "python3"
  },
  "language_info": {
   "codemirror_mode": {
    "name": "ipython",
    "version": 3
   },
   "file_extension": ".py",
   "mimetype": "text/x-python",
   "name": "python",
   "nbconvert_exporter": "python",
   "pygments_lexer": "ipython3",
   "version": "3.11.7"
  }
 },
 "nbformat": 4,
 "nbformat_minor": 5
}
